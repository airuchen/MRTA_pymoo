{
  "cells": [
    {
      "cell_type": "markdown",
      "metadata": {
        "id": "jHHw2vxZdE7t"
      },
      "source": [
        "# Multiple Traveling Salesman Problem\n",
        "\n",
        "## 1. Mathematical Problem\n",
        "\n",
        "In this notebook, we show how to solve the Multiple Traveling Salesman Problem (mTSP) using CVXPY. The problem considers $m$ traveling salesmen. To solve it, I'm going to use the Miller-Tucker-Zemlin formulation, which follows:\n",
        "\n",
        "The cities are identified with the numbers $1, \\ldots, n$, with which we define:\n",
        "\n",
        "$$\n",
        "x_{ij} = \\begin{cases} 1 & \\text{the path goes from the city} \\, i \\text{ to city } j \\\\ 0 & \\text{otherwise} \\end{cases}\n",
        "$$\n",
        "\n",
        "For $i = 1, \\ldots, n$, $m$ is the number of salesmen, $u_{i}$ is an auxiliary variable and $c_{i, j}$ is the distance from city $i$ to the city $j$. Then the mTSP can be written as the following integer linear programming problem:\n",
        "\n",
        "$$\n",
        "\\begin{align}\n",
        "\\min &\\sum_{i=1}^n \\sum_{j\\ne i,j=1}^n c_{i,j}x_{i,j}\\colon &&  \\\\\n",
        "     & \\sum_{i=2}^n x_{i,1} = m \\\\\n",
        "     & \\sum_{j=2}^n x_{1,j} = m \\\\\n",
        "     & \\sum_{i=2,i\\ne j}^n x_{i,j} = 1 && j=1, \\ldots, n; \\\\\n",
        "     & \\sum_{j=2,j\\ne i}^n x_{i,j} = 1 && i=1, \\ldots, n; \\\\\n",
        "     & u_{i}-u_{j} + 1 \\le (n-1)(1-x_{i,j}) && 2 \\le i \\ne j \\le n;  \\\\\n",
        "     & 0 \\le u_{i} \\le n && 2 \\le i \\le n; \\\\\n",
        "     & x_{i,j} \\in \\{0,1\\}  && i,j=1, \\ldots, n; \\\\\n",
        "     & u_{i} \\in \\mathbf{Z} && i=2, \\ldots, n. \\\\\n",
        "\\end{align}\n",
        "$$\n",
        "\n",
        "The objective function minimizes the distance of each salesman's routes. The first two restrictions guarantee that there is a number of salesmen $m$ who leave and return to the city of origin. The following two restrictions ensure that each city is reached from exactly one other city and that from each city there is an exit to exactly one other city. The constraints of the auxiliary variables force that no salesman passes through the same city twice.\n",
        "\n",
        "## 2. Example for a single Traveling Salesman\n",
        "\n",
        "We are going to find the optimal paths (shortest distance) for a single salesman that starts from the point of origin (O) and must pass through all points A to F and return to point O.\n",
        "\n",
        "| Point |\tCoordinates |\n",
        "| :----------: | :----------: |\n",
        "| Origin(O) | (-12.059296, -76.975893) |\n",
        "| A | (-12.079575, -77.009686) |\n",
        "| B | (-12.087303, -76.996620) |\n",
        "| C | (-12.084391, -76.975651) |\n",
        "| D | (-12.063603, -76.960483) |\n",
        "| E | (-12.056762, -77.014452) |\n",
        "| F | (-12.011531, -77.002383) |"
      ]
    },
    {
      "cell_type": "code",
      "execution_count": 4,
      "metadata": {
        "code_folding": [],
        "colab": {
          "base_uri": "https://localhost:8080/"
        },
        "id": "mB6pnH88dE7v",
        "outputId": "2b1ba7ba-8ad9-4556-db7b-477414162254"
      },
      "outputs": [
        {
          "name": "stdout",
          "output_type": "stream",
          "text": [
            "Distance Matrix is:\n",
            "\n",
            "[[ 0.      2.281   3.8329  2.7762  1.7441  4.2076  3.5098 14.3567  2.7773\n",
            "   1.6397  4.3163  6.0199]\n",
            " [ 3.5098  2.2863  0.9627  2.7771  4.7202  2.9351  0.     11.9219  2.6704\n",
            "   4.6194  2.9922  7.5295]\n",
            " [14.3567 12.0761 11.0629 11.6329 14.2687 14.5566 11.9219  0.     11.611\n",
            "  14.2382 14.5707 19.4514]\n",
            " [ 2.7773  0.6269  2.1977  0.1089  2.896   5.1263  2.6704 11.611   0.\n",
            "   2.8311  5.2142  8.5331]\n",
            " [ 1.6397  2.6551  4.6376  2.769   0.1089  5.8166  4.6194 14.2382  2.8311\n",
            "   0.      5.9246  7.2812]\n",
            " [ 4.3163  4.6403  3.952   5.3027  6.0326  0.1089  2.9922 14.5707  5.2142\n",
            "   5.9246  0.      5.202 ]\n",
            " [ 2.281   0.      2.0322  0.6905  2.7373  4.5493  2.2863 12.0761  0.6269\n",
            "   2.6551  4.6403  7.9225]\n",
            " [ 3.8329  2.0322  0.      2.3055  4.7278  3.8966  0.9627 11.0629  2.1977\n",
            "   4.6376  3.952   8.4056]\n",
            " [ 2.7762  0.6905  2.3055  0.      2.8311  5.2142  2.7771 11.6329  0.1089\n",
            "   2.769   5.3027  8.5694]\n",
            " [ 1.7441  2.7373  4.7278  2.8311  0.      5.9246  4.7202 14.2687  2.896\n",
            "   0.1089  6.0326  7.3483]\n",
            " [ 4.2076  4.5493  3.8966  5.2142  5.9246  0.      2.9351 14.5566  5.1263\n",
            "   5.8166  0.1089  5.1733]\n",
            " [ 6.0729  7.9572  8.4144  8.607   7.4164  5.1467  7.5329 19.4546  8.5694\n",
            "   7.3483  5.1733  0.1089]]\n"
          ]
        }
      ],
      "source": [
        "################################################\n",
        "# Loading libraries\n",
        "################################################\n",
        "!pip install --quiet geopy\n",
        "\n",
        "import numpy as np\n",
        "import pandas as pd\n",
        "import matplotlib.pyplot as plt\n",
        "import cvxpy as cp\n",
        "from geopy import distance # Library for geographical calculations\n",
        "\n",
        "################################################\n",
        "# Original Data\n",
        "################################################\n",
        "points_s = [(-12.059296, -76.975893),\n",
        "          (-12.079575, -76.979686),\n",
        "          (-12.087303, -76.996620),\n",
        "          (-12.084391, -76.975651),\n",
        "          (-12.063603, -76.960483),\n",
        "          (-12.056762, -77.014452),\n",
        "          (-12.079575, -77.000686),\n",
        "          (-12.187303, -76.997620),\n",
        "          (-12.084391, -76.976651),\n",
        "          (-12.063603, -76.961483),\n",
        "          (-12.056762, -77.015452),\n",
        "          (-12.011531, -77.002383)]\n",
        "points_e = [(-12.059296, -76.975893),\n",
        "          (-12.079575, -77.000686),\n",
        "          (-12.187303, -76.997620),\n",
        "          (-12.084391, -76.976651),\n",
        "          (-12.063603, -76.961483),\n",
        "          (-12.056762, -77.015452),\n",
        "          (-12.079575, -76.979686),\n",
        "          (-12.087303, -76.996620),\n",
        "          (-12.084391, -76.975651),\n",
        "          (-12.063603, -76.960483),\n",
        "          (-12.056762, -77.014452),\n",
        "          (-12.011531, -77.003383)]\n",
        "\n",
        "################################################\n",
        "# Building distance matrix\n",
        "################################################\n",
        "n = len(points_s)\n",
        "C = np.zeros((n,n))\n",
        "\n",
        "for i in range(0, n):\n",
        "    for j in range(0, len(points_e)):\n",
        "        C[i,j] = distance.distance(points_e[i], points_s[j]).km\n",
        "\n",
        "# Showing distance matrix\n",
        "print('Distance Matrix is:\\n')\n",
        "print(np.round(C,4))"
      ]
    },
    {
      "cell_type": "code",
      "execution_count": 5,
      "metadata": {
        "colab": {
          "base_uri": "https://localhost:8080/"
        },
        "id": "vIhaJbmUdE7x",
        "outputId": "72ad8eac-d58c-43a4-f5e4-20bfb8792cdf"
      },
      "outputs": [
        {
          "name": "stdout",
          "output_type": "stream",
          "text": [
            "The path is:\n",
            "\n",
            "0 => 11 => 5 => 10 => 6 => 1 => 2 => 7 => 8 => 3 => 9 => 4 => 0\n"
          ]
        }
      ],
      "source": [
        "################################################\n",
        "# Solving the integer programming problem\n",
        "################################################\n",
        "\n",
        "# Defining variables\n",
        "X = cp.Variable(C.shape, boolean=True)\n",
        "u = cp.Variable(n, integer=True)\n",
        "ones = np.ones((n,1))\n",
        "\n",
        "# Defining the objective function\n",
        "objective = cp.Minimize(cp.sum(cp.multiply(C, X)))\n",
        "\n",
        "# Defining the constraints\n",
        "constraints = []\n",
        "constraints += [X @ ones == ones]\n",
        "constraints += [X.T @ ones == ones]\n",
        "constraints += [cp.diag(X) == 0]\n",
        "constraints += [u[1:] >= 2]\n",
        "constraints += [u[1:] <= n]\n",
        "constraints += [u[0] == 1]\n",
        "\n",
        "for i in range(1, n):\n",
        "    for j in range(1, n):\n",
        "        if i != j:\n",
        "            constraints += [ u[i] - u[j] + 1  <= (n - 1) * (1 - X[i, j]) ]\n",
        "\n",
        "# Solving the problem\n",
        "prob = cp.Problem(objective, constraints)\n",
        "prob.solve(verbose=False)\n",
        "\n",
        "# Transforming the solution to a path\n",
        "X_sol = np.argwhere(X.value==1)\n",
        "orden = X_sol[0].tolist()\n",
        "\n",
        "for i in range(1, n):\n",
        "    row = orden[-1]\n",
        "    orden.append(X_sol[row,1])\n",
        "\n",
        "# Showing the optimal path\n",
        "print('The path is:\\n')\n",
        "print( ' => '.join(map(str, orden)))"
      ]
    },
    {
      "cell_type": "code",
      "execution_count": 6,
      "metadata": {
        "colab": {
          "base_uri": "https://localhost:8080/",
          "height": 1000
        },
        "id": "bD6sZqpNdE7x",
        "outputId": "3968e0ac-2a46-4035-a4b9-b29865aed2b6"
      },
      "outputs": [
        {
          "name": "stdout",
          "output_type": "stream",
          "text": [
            "[[ 0.          0.        ]\n",
            " [ 0.4234379   2.25744795]\n",
            " [ 2.31389486  3.11772498]\n",
            " [ 0.02701607  2.79356262]\n",
            " [ 1.72031987  0.47945305]\n",
            " [ 4.30460431  0.28208359]\n",
            " [ 2.76781031  2.25744795]\n",
            " [ 2.4255317  14.24967406]\n",
            " [ 0.08462059  2.79356262]\n",
            " [ 1.60868334  0.47945305]\n",
            " [ 4.4162413   0.28208359]\n",
            " [ 2.95725809  5.31717548]]\n",
            "[[ 0.          0.        ]\n",
            " [ 2.76781031  2.25744795]\n",
            " [ 2.4255317  14.24967406]\n",
            " [ 0.08462059  2.79356262]\n",
            " [ 1.60868334  0.47945305]\n",
            " [ 4.4162413   0.28208359]\n",
            " [ 0.4234379   2.25744795]\n",
            " [ 2.31389486  3.11772498]\n",
            " [ 0.02701607  2.79356262]\n",
            " [ 1.72031987  0.47945305]\n",
            " [ 4.30460431  0.28208359]\n",
            " [ 3.06889499  5.31717548]]\n",
            "index 0\n",
            "[0. 0.]\n",
            "index 11\n",
            "[2.95725809 5.31717548]\n",
            "index 5\n",
            "[4.30460431 0.28208359]\n",
            "index 10\n",
            "[4.4162413  0.28208359]\n",
            "index 6\n",
            "[2.76781031 2.25744795]\n",
            "index 1\n",
            "[0.4234379  2.25744795]\n",
            "index 2\n",
            "[2.31389486 3.11772498]\n",
            "index 7\n",
            "[ 2.4255317  14.24967406]\n",
            "index 8\n",
            "[0.08462059 2.79356262]\n",
            "index 3\n",
            "[0.02701607 2.79356262]\n",
            "index 9\n",
            "[1.60868334 0.47945305]\n",
            "index 4\n",
            "[1.72031987 0.47945305]\n"
          ]
        },
        {
          "data": {
            "image/png": "[encoded data removed]",
            "text/plain": [
              "<Figure size 1400x700 with 1 Axes>"
            ]
          },
          "metadata": {},
          "output_type": "display_data"
        }
      ],
      "source": [
        "################################################\n",
        "# Plotting the optimal path\n",
        "################################################\n",
        "\n",
        "# Transforming the points to the xy plane approximately\n",
        "xy_cords_s = np.zeros((n,2))\n",
        "xy_cords_e = np.zeros((n,2))\n",
        "\n",
        "for i in range(0, n):\n",
        "    xy_cords_s[i,0] = distance.distance((points_s[0][1],0), (points_s[i][1],0)).km\n",
        "    xy_cords_s[i,1] = distance.distance((0,points_s[0][0]), (0,points_s[i][0])).km\n",
        "print(xy_cords_s)\n",
        "\n",
        "for i in range(0, n):\n",
        "    xy_cords_e[i,0] = distance.distance((points_e[0][1],0), (points_e[i][1],0)).km\n",
        "    xy_cords_e[i,1] = distance.distance((0,points_e[0][0]), (0,points_e[i][0])).km\n",
        "print(xy_cords_e)\n",
        "\n",
        "# Plotting the points\n",
        "fig, ax = plt.subplots(figsize=(14,7))\n",
        "\n",
        "for i in range(n):\n",
        "    ax.annotate(str(i), xy=(xy_cords_s[i,0], xy_cords_s[i,1]+0.1))\n",
        "\n",
        "ax.scatter(xy_cords_s[:,0],xy_cords_s[:,1])\n",
        "ax.scatter(xy_cords_e[:,0],xy_cords_e[:,1])\n",
        "\n",
        "for index, next_index in zip(orden[:-1], orden[1:]):\n",
        "  print(\"index\", index)\n",
        "  print(xy_cords_s[index])\n",
        "  ax.plot([xy_cords_s[index][0], xy_cords_e[index][0]],[xy_cords_s[index][1], xy_cords_e[index][1]], color='b')\n",
        "  ax.plot([xy_cords_e[index][0], xy_cords_s[next_index][0]],[xy_cords_e[index][1], xy_cords_s[next_index][1]], color='b')\n",
        "\n",
        "# ax.plot(xy_cords_s[orden,0], xy_cords_s[orden,1])\n",
        "# ax.plot(xy_cords[orden,0], xy_cords[orden,1])\n",
        "# ax.plot(xy_cords[orden,0], xy_cords[orden,1])"
      ]
    },
    {
      "cell_type": "code",
      "execution_count": 7,
      "metadata": {
        "colab": {
          "base_uri": "https://localhost:8080/"
        },
        "id": "DNP49ulcdE7y",
        "outputId": "a0c9a265-7908-4963-cd75-4ba6fb273382"
      },
      "outputs": [
        {
          "name": "stdout",
          "output_type": "stream",
          "text": [
            "The optimal distance is: 21.73 km\n"
          ]
        }
      ],
      "source": [
        "# Showing the optimal distance\n",
        "distance = np.sum(np.multiply(C, X.value))\n",
        "print('The optimal distance is:', np.round(distance,2), 'km')"
      ]
    },
    {
      "cell_type": "markdown",
      "metadata": {
        "id": "cwan91ugdE7y"
      },
      "source": [
        "## 3. Example for three Traveling Salesmen\n",
        "\n",
        "Continuing with the previous example, now we are going to find the optimal paths (shortest distance) for three salesmen that start from the point of origin (O) and between all of them must go through points A to F and return to point O.\n",
        "\n",
        "| Point |\tCoordinates |\n",
        "| :----------: | :----------: |\n",
        "| Origin(O) | (-12.059296, -76.975893) |\n",
        "| A | (-12.079575, -77.009686) |\n",
        "| B | (-12.087303, -76.996620) |\n",
        "| C | (-12.084391, -76.975651) |\n",
        "| D | (-12.063603, -76.960483) |\n",
        "| E | (-12.056762, -77.014452) |\n",
        "| F | (-12.011531, -77.002383) |"
      ]
    },
    {
      "cell_type": "code",
      "execution_count": 8,
      "metadata": {
        "colab": {
          "base_uri": "https://localhost:8080/"
        },
        "id": "PXTss4BEdE7y",
        "outputId": "642fe63c-9d10-4247-f116-322ef26e1dee"
      },
      "outputs": [
        {
          "name": "stdout",
          "output_type": "stream",
          "text": [
            "The path of Salesman_1 is:\n",
            "\n",
            "0 => 8 => 3 => 1 => 2 => 7 => 6 => 0\n",
            "\n",
            "The path of Salesman_2 is:\n",
            "\n",
            "0 => 9 => 4 => 0\n",
            "\n",
            "The path of Salesman_3 is:\n",
            "\n",
            "0 => 11 => 5 => 10 => 0\n",
            "\n"
          ]
        }
      ],
      "source": [
        "################################################\n",
        "# Solving the integer programming problem\n",
        "################################################\n",
        "\n",
        "# Defining the variables\n",
        "X = cp.Variable(C.shape, boolean=True)\n",
        "u = cp.Variable(n, integer=True)\n",
        "m = 3\n",
        "ones = np.ones((n,1))\n",
        "\n",
        "# Defining the objective function\n",
        "objective = cp.Minimize(cp.sum(cp.multiply(C, X)))\n",
        "\n",
        "# Defining the constraints\n",
        "constraints = []\n",
        "constraints += [X[0,:] @ ones == m]\n",
        "constraints += [X[:,0] @ ones == m]\n",
        "constraints += [X[1:,:] @ ones == 1]\n",
        "constraints += [X[:,1:].T @ ones == 1]\n",
        "constraints += [cp.diag(X) == 0]\n",
        "constraints += [u[1:] >= 2]\n",
        "constraints += [u[1:] <= n]\n",
        "constraints += [u[0] == 1]\n",
        "\n",
        "for i in range(1, n):\n",
        "    for j in range(1, n):\n",
        "        if i != j:\n",
        "            constraints += [ u[i] - u[j] + 1  <= (n - 1) * (1 - X[i, j]) ]\n",
        "\n",
        "# Solving the problem\n",
        "prob = cp.Problem(objective, constraints)\n",
        "prob.solve(verbose=False)\n",
        "\n",
        "# Transforming the solution to paths\n",
        "X_sol = np.argwhere(X.value==1)\n",
        "\n",
        "ruta = {}\n",
        "for i in range(0, m):\n",
        "    ruta['Salesman_' + str(i+1)] = [0]\n",
        "    j = i\n",
        "    a = 10e10\n",
        "    while a != 0:\n",
        "        a = X_sol[j,1]\n",
        "        ruta['Salesman_' + str(i+1)].append(a)\n",
        "        j = np.where(X_sol[:,0] == a)\n",
        "        j = j[0][0]\n",
        "        a = j\n",
        "\n",
        "# Showing the paths\n",
        "for i in ruta.keys():\n",
        "    print('The path of ' + i + ' is:\\n')\n",
        "    print( ' => '.join(map(str, ruta[i])))\n",
        "    print('')"
      ]
    },
    {
      "cell_type": "code",
      "execution_count": 9,
      "metadata": {
        "colab": {
          "base_uri": "https://localhost:8080/",
          "height": 1000
        },
        "id": "ailDAhMzdE7z",
        "outputId": "711b4d8d-9017-4d13-b807-92c97201b3b4"
      },
      "outputs": [
        {
          "name": "stdout",
          "output_type": "stream",
          "text": [
            "[0, 8, 3, 1, 2, 7, 6, 0]\n",
            "index 0\n",
            "[0. 0.]\n",
            "index 8\n",
            "[0.08462059 2.79356262]\n",
            "index 3\n",
            "[0.02701607 2.79356262]\n",
            "index 1\n",
            "[0.4234379  2.25744795]\n",
            "index 2\n",
            "[2.31389486 3.11772498]\n",
            "index 7\n",
            "[ 2.4255317  14.24967406]\n",
            "index 6\n",
            "[2.76781031 2.25744795]\n",
            "[0, 9, 4, 0]\n",
            "index 0\n",
            "[0. 0.]\n",
            "index 9\n",
            "[1.60868334 0.47945305]\n",
            "index 4\n",
            "[1.72031987 0.47945305]\n",
            "[0, 11, 5, 10, 0]\n",
            "index 0\n",
            "[0. 0.]\n",
            "index 11\n",
            "[2.95725809 5.31717548]\n",
            "index 5\n",
            "[4.30460431 0.28208359]\n",
            "index 10\n",
            "[4.4162413  0.28208359]\n"
          ]
        },
        {
          "data": {
            "image/png": "[encoded data removed]",
            "text/plain": [
              "<Figure size 1400x700 with 1 Axes>"
            ]
          },
          "metadata": {},
          "output_type": "display_data"
        }
      ],
      "source": [
        "################################################\n",
        "# Plotting the optimal path\n",
        "################################################\n",
        "\n",
        "# Plotting the points\n",
        "fig, ax = plt.subplots(figsize=(14,7))\n",
        "\n",
        "for i in range(n):\n",
        "    ax.annotate(str(i), xy=(xy_cords_s[i,0], xy_cords_s[i,1]+0.1))\n",
        "\n",
        "ax.scatter(xy_cords_s[:,0],xy_cords_s[:,1])\n",
        "ax.scatter(xy_cords_e[:,0],xy_cords_e[:,1])\n",
        "\n",
        "# for index, next_index in zip(orden[:-1], orden[1:]):\n",
        "#   print(\"index\", index)\n",
        "#   print(xy_cords_s[index])\n",
        "#   ax.plot([xy_cords_s[index][0], xy_cords_e[index][0]],[xy_cords_s[index][1], xy_cords_e[index][1]])\n",
        "#   ax.plot([xy_cords_e[index][0], xy_cords_s[next_index][0]],[xy_cords_e[index][1], xy_cords_s[next_index][1]])\n",
        "colors = [\"b\", \"g\", \"r\", \"c\", \"m\", \"y\", \"k\"]\n",
        "for i in ruta.keys():\n",
        "  color = colors.pop(0)\n",
        "  print(ruta[i])\n",
        "  for index, next_index in zip(ruta[i][:-1], ruta[i][1:]):\n",
        "    print(\"index\", index)\n",
        "    print(xy_cords_s[index])\n",
        "    ax.plot([xy_cords_s[index][0], xy_cords_e[index][0]],[xy_cords_s[index][1], xy_cords_e[index][1]], color=color)\n",
        "    ax.plot([xy_cords_e[index][0], xy_cords_s[next_index][0]],[xy_cords_e[index][1], xy_cords_s[next_index][1]], color=color)\n",
        "    # ax.plot(xy_cords[ruta[i],0], xy_cords[ruta[i],1], label = i)\n",
        "    # ax.legend(loc='best')"
      ]
    },
    {
      "cell_type": "code",
      "execution_count": 10,
      "metadata": {
        "colab": {
          "base_uri": "https://localhost:8080/"
        },
        "id": "pcwFy7CZdE7z",
        "outputId": "d2561a42-0a0f-4c8b-910d-f075838053fe"
      },
      "outputs": [
        {
          "name": "stdout",
          "output_type": "stream",
          "text": [
            "The optimal distance is: 26.26 km\n"
          ]
        }
      ],
      "source": [
        "# Showing the optimal distance\n",
        "distance = np.sum(np.multiply(C, X.value))\n",
        "print('The optimal distance is:', np.round(distance,2), 'km')"
      ]
    },
    {
      "cell_type": "markdown",
      "metadata": {
        "id": "NSedhqsGdE70"
      },
      "source": [
        "It can be observed that depending on the location of the points that salesmen must travel, in terms of distance it may not be optimal to add more salesmen."
      ]
    },
    {
      "cell_type": "code",
      "execution_count": null,
      "metadata": {
        "id": "-twDJrWuvmlu"
      },
      "outputs": [],
      "source": []
    }
  ],
  "metadata": {
    "colab": {
      "provenance": []
    },
    "kernelspec": {
      "display_name": "Python 3",
      "language": "python",
      "name": "python3"
    },
    "language_info": {
      "codemirror_mode": {
        "name": "ipython",
        "version": 3
      },
      "file_extension": ".py",
      "mimetype": "text/x-python",
      "name": "python",
      "nbconvert_exporter": "python",
      "pygments_lexer": "ipython3",
      "version": "3.8.10"
    }
  },
  "nbformat": 4,
  "nbformat_minor": 0
}
