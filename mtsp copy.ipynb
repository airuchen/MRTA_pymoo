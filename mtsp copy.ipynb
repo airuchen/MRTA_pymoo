{
  "cells": [
    {
      "cell_type": "markdown",
      "metadata": {
        "id": "jHHw2vxZdE7t"
      },
      "source": [
        "# Multiple Traveling Salesman Problem\n",
        "\n",
        "## 1. Mathematical Problem\n",
        "\n",
        "In this notebook, we show how to solve the Multiple Traveling Salesman Problem (mTSP) using CVXPY. The problem considers $m$ traveling salesmen. To solve it, I'm going to use the Miller-Tucker-Zemlin formulation, which follows:\n",
        "\n",
        "The cities are identified with the numbers $1, \\ldots, n$, with which we define:\n",
        "\n",
        "$$\n",
        "x_{ij} = \\begin{cases} 1 & \\text{the path goes from the city} \\, i \\text{ to city } j \\\\ 0 & \\text{otherwise} \\end{cases}\n",
        "$$\n",
        "\n",
        "For $i = 1, \\ldots, n$, $m$ is the number of salesmen, $u_{i}$ is an auxiliary variable and $c_{i, j}$ is the distance from city $i$ to the city $j$. Then the mTSP can be written as the following integer linear programming problem:\n",
        "\n",
        "$$\n",
        "\\begin{align}\n",
        "\\min &\\sum_{i=1}^n \\sum_{j\\ne i,j=1}^n c_{i,j}x_{i,j}\\colon &&  \\\\\n",
        "     & \\sum_{i=2}^n x_{i,1} = m \\\\\n",
        "     & \\sum_{j=2}^n x_{1,j} = m \\\\\n",
        "     & \\sum_{i=2,i\\ne j}^n x_{i,j} = 1 && j=1, \\ldots, n; \\\\\n",
        "     & \\sum_{j=2,j\\ne i}^n x_{i,j} = 1 && i=1, \\ldots, n; \\\\\n",
        "     & u_{i}-u_{j} + 1 \\le (n-1)(1-x_{i,j}) && 2 \\le i \\ne j \\le n;  \\\\\n",
        "     & 0 \\le u_{i} \\le n && 2 \\le i \\le n; \\\\\n",
        "     & x_{i,j} \\in \\{0,1\\}  && i,j=1, \\ldots, n; \\\\\n",
        "     & u_{i} \\in \\mathbf{Z} && i=2, \\ldots, n. \\\\\n",
        "\\end{align}\n",
        "$$\n",
        "\n",
        "The objective function minimizes the distance of each salesman's routes. The first two restrictions guarantee that there is a number of salesmen $m$ who leave and return to the city of origin. The following two restrictions ensure that each city is reached from exactly one other city and that from each city there is an exit to exactly one other city. The constraints of the auxiliary variables force that no salesman passes through the same city twice.\n",
        "\n",
        "## 2. Example for a single Traveling Salesman\n",
        "\n",
        "We are going to find the optimal paths (shortest distance) for a single salesman that starts from the point of origin (O) and must pass through all points A to F and return to point O.\n",
        "\n",
        "| Point |\tCoordinates |\n",
        "| :----------: | :----------: |\n",
        "| Origin(O) | (-12.059296, -76.975893) |\n",
        "| A | (-12.079575, -77.009686) |\n",
        "| B | (-12.087303, -76.996620) |\n",
        "| C | (-12.084391, -76.975651) |\n",
        "| D | (-12.063603, -76.960483) |\n",
        "| E | (-12.056762, -77.014452) |\n",
        "| F | (-12.011531, -77.002383) |"
      ]
    },
    {
      "cell_type": "code",
      "execution_count": 120,
      "metadata": {},
      "outputs": [],
      "source": [
        "\n",
        "pois = [\n",
        "        {\n",
        "            \"name\": \"poi1\",\n",
        "            \"x\": 1.464E1,\n",
        "            \"y\": 2.466E1,\n",
        "            \"theta\": 0E0\n",
        "        },\n",
        "        {\n",
        "            \"name\": \"poi2\",\n",
        "            \"x\": 4.87E0,\n",
        "            \"y\": 1.468E1,\n",
        "            \"theta\": 0E0\n",
        "        },\n",
        "        {\n",
        "            \"name\": \"poi3\",\n",
        "            \"x\": 2.332E1,\n",
        "            \"y\": 1.053E1,\n",
        "            \"theta\": 0E0\n",
        "        },\n",
        "        {\n",
        "            \"id\": \"afbc1233-f445-4d0e-b4c5-775901f91301\",\n",
        "            \"name\": \"poi4\",\n",
        "            \"x\": 1.442E1,\n",
        "            \"y\": 5.95E0,\n",
        "            \"theta\": 0E0\n",
        "        },\n",
        "        {\n",
        "            \"id\": \"99055a9e-926e-4eb5-a2d9-eaf9418f8b4e\",\n",
        "            \"name\": \"poi5\",\n",
        "            \"x\": 2.6060000000000002E1,\n",
        "            \"y\": 6.4E-1,\n",
        "            \"theta\": 0E0\n",
        "        },\n",
        "        {\n",
        "            \"id\": \"6d035386-3d83-48b4-b6cc-9bcf07e20534\",\n",
        "            \"name\": \"poi6\",\n",
        "            \"x\": 2.3000000000000003E0,\n",
        "            \"y\": 1.01E0,\n",
        "            \"theta\": 0E0\n",
        "        },\n",
        "        {\n",
        "            \"id\": \"6814dd1d-fd5a-428f-8bb7-3069b732bbdd\",\n",
        "            \"name\": \"poi7\",\n",
        "            \"x\": 2.607E1,\n",
        "            \"y\": 2.9150000000000002E1,\n",
        "            \"theta\": 0E0\n",
        "        },\n",
        "        {\n",
        "            \"id\": \"4ab7fb46-abc1-4f7b-b6bf-089b1b2c0f9b\",\n",
        "            \"name\": \"poi8\",\n",
        "            \"x\": 2.58E0,\n",
        "            \"y\": 2.91E1,\n",
        "            \"theta\": 0E0\n",
        "        },\n",
        "        {\n",
        "            \"id\": \"0aab1dcb-60e6-44bc-bcf7-02f2f2a82fbc\",\n",
        "            \"name\": \"poi9\",\n",
        "            \"x\": 4.8100000000000005E0,\n",
        "            \"y\": 2.055E1,\n",
        "            \"theta\": 0E0\n",
        "        },\n",
        "        {\n",
        "            \"id\": \"a0af4393-3e0c-426e-b4f9-275dda7bd804\",\n",
        "            \"name\": \"poi10\",\n",
        "            \"x\": 2.3080000000000002E1,\n",
        "            \"y\": 2.086E1,\n",
        "            \"theta\": 0E0\n",
        "        }\n",
        "    ]"
      ]
    },
    {
      "cell_type": "code",
      "execution_count": 145,
      "metadata": {
        "code_folding": [],
        "colab": {
          "base_uri": "https://localhost:8080/"
        },
        "id": "mB6pnH88dE7v",
        "outputId": "2b1ba7ba-8ad9-4556-db7b-477414162254"
      },
      "outputs": [
        {
          "name": "stdout",
          "output_type": "stream",
          "text": [
            "Distance Matrix is:\n",
            "\n",
            "[[ 0.     12.3693 19.2094 ... 26.4008 24.2074 13.8924]\n",
            " [12.3693  0.     15.2971 ... 21.0238 13.8924 21.0238]\n",
            " [19.2094 15.2971  0.     ... 36.2215 27.2947 32.5576]\n",
            " ...\n",
            " [26.4008 21.0238 36.2215 ...  0.     12.0416 21.6333]\n",
            " [24.2074 13.8924 27.2947 ... 12.0416  0.     26.1725]\n",
            " [13.8924 21.0238 32.5576 ... 21.6333 26.1725  0.    ]]\n"
          ]
        }
      ],
      "source": [
        "################################################\n",
        "# Loading libraries\n",
        "################################################\n",
        "!pip install --quiet cvxpy\n",
        "\n",
        "import numpy as np\n",
        "import pandas as pd\n",
        "import matplotlib.pyplot as plt\n",
        "import cvxpy as cp\n",
        "\n",
        "################################################\n",
        "# Original Data\n",
        "################################################\n",
        "# points_s = [\n",
        "#           (pois[0][\"x\"], pois[0][\"y\"]),\n",
        "#           (pois[7][\"x\"], pois[7][\"y\"]),\n",
        "#           (pois[6][\"x\"], pois[6][\"y\"]),\n",
        "#           (pois[5][\"x\"], pois[5][\"y\"]),\n",
        "#           (pois[4][\"x\"], pois[4][\"y\"]),\n",
        "\n",
        "#           ]\n",
        "# points_e = [\n",
        "#           (pois[0][\"x\"], pois[0][\"y\"]),\n",
        "#           (pois[6][\"x\"], pois[6][\"y\"]),\n",
        "#           (pois[4][\"x\"], pois[4][\"y\"]),\n",
        "#           (pois[7][\"x\"], pois[7][\"y\"]),\n",
        "#           (pois[5][\"x\"], pois[5][\"y\"]),\n",
        "#           ]\n",
        "\n",
        "pois = [(37 ,52),\n",
        "        (49 ,49),\n",
        "        (52 ,64),\n",
        "        (20 ,26),\n",
        "        (40 ,30),\n",
        "        (21 ,47),\n",
        "        (17 ,63),\n",
        "        (31 ,62),\n",
        "        (52 ,33),\n",
        "        ( 51, 21),\n",
        "        ( 42, 41),\n",
        "        ( 31, 32),\n",
        "        ( 5 ,25),\n",
        "        ( 12, 42),\n",
        "        ( 36, 16),\n",
        "        ( 52, 41),\n",
        "        ( 27, 23),\n",
        "        ( 17, 33),\n",
        "        ( 13, 13),\n",
        "        ( 57, 58),\n",
        "        ( 62, 42),\n",
        "        ( 42, 57),\n",
        "        ( 16, 57),\n",
        "        ( 8 ,52),\n",
        "        ( 7 ,38),\n",
        "        ( 27, 68),\n",
        "        ( 30, 48),\n",
        "        ( 43, 67),\n",
        "        ( 58, 48),\n",
        "        ( 58, 27),\n",
        "        ( 37, 69),\n",
        "        ( 38, 46),\n",
        "        ( 46, 10),\n",
        "        ( 61, 33),\n",
        "        ( 62, 63),\n",
        "        ( 63, 69),\n",
        "        ( 32, 22),\n",
        "        ( 45, 35),\n",
        "        ( 59, 15),\n",
        "        ( 5 ,6),\n",
        "        ( 10, 17),\n",
        "        ( 21, 10),\n",
        "        ( 5 ,64),\n",
        "        ( 30, 15),\n",
        "        ( 39, 10),\n",
        "        ( 32, 39),\n",
        "        ( 25, 32),\n",
        "        ( 25, 55),\n",
        "        ( 48, 28),\n",
        "        ( 56, 37),\n",
        "        (30, 40)]\n",
        "\n",
        "points_s = pois\n",
        "points_e = pois\n",
        "\n",
        "\n",
        "################################################\n",
        "# Building distance matrix\n",
        "################################################\n",
        "n = len(points_s)\n",
        "C = np.zeros((n,n))\n",
        "\n",
        "def distance(a, b):\n",
        "    return np.linalg.norm([a[0] - b[0], a[1] - b[1]])\n",
        "\n",
        "for i in range(0, n):\n",
        "    for j in range(0, len(points_e)):\n",
        "        C[i,j] = distance(points_e[i], points_s[j])\n",
        "\n",
        "# Showing distance matrix\n",
        "print('Distance Matrix is:\\n')\n",
        "print(np.round(C,4))"
      ]
    },
    {
      "cell_type": "code",
      "execution_count": 146,
      "metadata": {},
      "outputs": [
        {
          "data": {
            "text/plain": [
              "'1.3.2'"
            ]
          },
          "execution_count": 146,
          "metadata": {},
          "output_type": "execute_result"
        }
      ],
      "source": [
        "cp.__version__"
      ]
    },
    {
      "cell_type": "code",
      "execution_count": 147,
      "metadata": {
        "colab": {
          "base_uri": "https://localhost:8080/"
        },
        "id": "vIhaJbmUdE7x",
        "outputId": "72ad8eac-d58c-43a4-f5e4-20bfb8792cdf"
      },
      "outputs": [
        {
          "ename": "IndexError",
          "evalue": "index 21 is out of bounds for axis 0 with size 20",
          "output_type": "error",
          "traceback": [
            "\u001b[0;31m---------------------------------------------------------------------------\u001b[0m",
            "\u001b[0;31mIndexError\u001b[0m                                Traceback (most recent call last)",
            "Cell \u001b[0;32mIn[147], line 37\u001b[0m\n\u001b[1;32m     35\u001b[0m \u001b[39mfor\u001b[39;00m i \u001b[39min\u001b[39;00m \u001b[39mrange\u001b[39m(\u001b[39m1\u001b[39m, n):\n\u001b[1;32m     36\u001b[0m     row \u001b[39m=\u001b[39m orden[\u001b[39m-\u001b[39m\u001b[39m1\u001b[39m]\n\u001b[0;32m---> 37\u001b[0m     orden\u001b[39m.\u001b[39mappend(X_sol[row,\u001b[39m1\u001b[39;49m])\n\u001b[1;32m     39\u001b[0m \u001b[39m# Showing the optimal path\u001b[39;00m\n\u001b[1;32m     40\u001b[0m \u001b[39mprint\u001b[39m(\u001b[39m'\u001b[39m\u001b[39mThe path is:\u001b[39m\u001b[39m\\n\u001b[39;00m\u001b[39m'\u001b[39m)\n",
            "\u001b[0;31mIndexError\u001b[0m: index 21 is out of bounds for axis 0 with size 20"
          ]
        }
      ],
      "source": [
        "################################################\n",
        "# Solving the integer programming problem\n",
        "################################################\n",
        "\n",
        "# Defining variables\n",
        "X = cp.Variable(C.shape, boolean=True)\n",
        "u = cp.Variable(n, integer=True)\n",
        "ones = np.ones((n,1))\n",
        "\n",
        "# Defining the objective function\n",
        "objective = cp.Minimize(cp.sum(cp.multiply(C, X)))\n",
        "\n",
        "# Defining the constraints\n",
        "constraints = []\n",
        "constraints += [X @ ones == ones]\n",
        "constraints += [X.T @ ones == ones]\n",
        "constraints += [cp.diag(X) == 0]\n",
        "constraints += [u[1:] >= 2]\n",
        "constraints += [u[1:] <= n]\n",
        "constraints += [u[0] == 1]\n",
        "\n",
        "for i in range(1, n):\n",
        "    for j in range(1, n):\n",
        "        if i != j:\n",
        "            constraints += [ u[i] - u[j] + 1  <= (n - 1) * (1 - X[i, j]) ]\n",
        "\n",
        "# Solving the problem\n",
        "prob = cp.Problem(objective, constraints)\n",
        "prob.solve(verbose=False)\n",
        "\n",
        "# Transforming the solution to a path\n",
        "X_sol = np.argwhere(X.value==1)\n",
        "orden = X_sol[0].tolist()\n",
        "\n",
        "for i in range(1, n):\n",
        "    row = orden[-1]\n",
        "    orden.append(X_sol[row,1])\n",
        "\n",
        "# Showing the optimal path\n",
        "print('The path is:\\n')\n",
        "print( ' => '.join(map(str, orden)))"
      ]
    },
    {
      "cell_type": "code",
      "execution_count": 129,
      "metadata": {
        "colab": {
          "base_uri": "https://localhost:8080/",
          "height": 1000
        },
        "id": "bD6sZqpNdE7x",
        "outputId": "3968e0ac-2a46-4035-a4b9-b29865aed2b6"
      },
      "outputs": [
        {
          "name": "stdout",
          "output_type": "stream",
          "text": [
            "[[37. 52.]\n",
            " [49. 49.]\n",
            " [52. 64.]\n",
            " [20. 26.]\n",
            " [40. 30.]\n",
            " [21. 47.]\n",
            " [17. 63.]\n",
            " [31. 62.]\n",
            " [52. 33.]\n",
            " [51. 21.]\n",
            " [42. 41.]\n",
            " [31. 32.]\n",
            " [ 5. 25.]\n",
            " [12. 42.]\n",
            " [30. 40.]]\n",
            "[[37. 52.]\n",
            " [49. 49.]\n",
            " [52. 64.]\n",
            " [20. 26.]\n",
            " [40. 30.]\n",
            " [21. 47.]\n",
            " [17. 63.]\n",
            " [31. 62.]\n",
            " [52. 33.]\n",
            " [51. 21.]\n",
            " [42. 41.]\n",
            " [31. 32.]\n",
            " [ 5. 25.]\n",
            " [12. 42.]\n",
            " [30. 40.]]\n",
            "index 0\n",
            "[37. 52.]\n",
            "index 7\n",
            "[31. 62.]\n",
            "index 6\n",
            "[17. 63.]\n",
            "index 5\n",
            "[21. 47.]\n",
            "index 13\n",
            "[12. 42.]\n",
            "index 12\n",
            "[ 5. 25.]\n",
            "index 3\n",
            "[20. 26.]\n",
            "index 14\n",
            "[30. 40.]\n",
            "index 11\n",
            "[31. 32.]\n",
            "index 4\n",
            "[40. 30.]\n",
            "index 9\n",
            "[51. 21.]\n",
            "index 8\n",
            "[52. 33.]\n",
            "index 10\n",
            "[42. 41.]\n",
            "index 1\n",
            "[49. 49.]\n",
            "index 2\n",
            "[52. 64.]\n"
          ]
        },
        {
          "data": {
            "image/png": "[encoded data removed]",
            "text/plain": [
              "<Figure size 1400x700 with 1 Axes>"
            ]
          },
          "metadata": {},
          "output_type": "display_data"
        }
      ],
      "source": [
        "################################################\n",
        "# Plotting the optimal path\n",
        "################################################\n",
        "\n",
        "# Transforming the points to the xy plane approximately\n",
        "xy_cords_s = np.zeros((n,2))\n",
        "xy_cords_e = np.zeros((n,2))\n",
        "\n",
        "for i in range(0, n):\n",
        "    xy_cords_s[i] = [points_s[i][0], points_s[i][1]]\n",
        "    # xy_cords_s[i,1] = distance((0,points_s[0][0]), (0,points_s[i][0]))\n",
        "print(xy_cords_s)\n",
        "\n",
        "for i in range(0, n):\n",
        "    xy_cords_e[i] = [points_e[i][0], points_e[i][1]]\n",
        "    # xy_cords_e[i,1] = distance((0,points_e[0][0]), (0,points_e[i][0]))\n",
        "print(xy_cords_e)\n",
        "\n",
        "# Plotting the points\n",
        "fig, ax = plt.subplots(figsize=(14,7))\n",
        "\n",
        "for i in range(n):\n",
        "    ax.annotate(str(i), xy=(xy_cords_s[i,0], xy_cords_s[i,1]+0.1))\n",
        "\n",
        "ax.scatter(xy_cords_s[:,0],xy_cords_s[:,1], color='r')\n",
        "ax.scatter(xy_cords_e[:,0],xy_cords_e[:,1], color='g')\n",
        "\n",
        "for index, next_index in zip(orden[:-1], orden[1:]):\n",
        "  print(\"index\", index)\n",
        "  print(xy_cords_s[index])\n",
        "  ax.plot([xy_cords_s[index][0], xy_cords_e[index][0]],[xy_cords_s[index][1], xy_cords_e[index][1]], color='b')\n",
        "  ax.plot([xy_cords_e[index][0], xy_cords_s[next_index][0]],[xy_cords_e[index][1], xy_cords_s[next_index][1]], color='b')\n",
        "\n",
        "# ax.plot(xy_cords_s[orden,0], xy_cords_s[orden,1])\n",
        "# ax.plot(xy_cords[orden,0], xy_cords[orden,1])\n",
        "# ax.plot(xy_cords[orden,0], xy_cords[orden,1])"
      ]
    },
    {
      "cell_type": "code",
      "execution_count": 130,
      "metadata": {
        "colab": {
          "base_uri": "https://localhost:8080/"
        },
        "id": "DNP49ulcdE7y",
        "outputId": "a0c9a265-7908-4963-cd75-4ba6fb273382"
      },
      "outputs": [
        {
          "name": "stdout",
          "output_type": "stream",
          "text": [
            "The optimal distance is: 204.59 m\n"
          ]
        }
      ],
      "source": [
        "# Showing the optimal distance\n",
        "distance = np.sum(np.multiply(C, X.value))\n",
        "print('The optimal distance is:', np.round(distance,2), 'm')"
      ]
    },
    {
      "cell_type": "markdown",
      "metadata": {
        "id": "cwan91ugdE7y"
      },
      "source": [
        "## 3. Example for three Traveling Salesmen\n",
        "\n",
        "Continuing with the previous example, now we are going to find the optimal paths (shortest distance) for three salesmen that start from the point of origin (O) and between all of them must go through points A to F and return to point O.\n",
        "\n",
        "| Point |\tCoordinates |\n",
        "| :----------: | :----------: |\n",
        "| Origin(O) | (-12.059296, -76.975893) |\n",
        "| A | (-12.079575, -77.009686) |\n",
        "| B | (-12.087303, -76.996620) |\n",
        "| C | (-12.084391, -76.975651) |\n",
        "| D | (-12.063603, -76.960483) |\n",
        "| E | (-12.056762, -77.014452) |\n",
        "| F | (-12.011531, -77.002383) |"
      ]
    },
    {
      "cell_type": "code",
      "execution_count": 143,
      "metadata": {
        "colab": {
          "base_uri": "https://localhost:8080/"
        },
        "id": "PXTss4BEdE7y",
        "outputId": "642fe63c-9d10-4247-f116-322ef26e1dee"
      },
      "outputs": [
        {
          "name": "stdout",
          "output_type": "stream",
          "text": [
            "The path of Salesman_1 is:\n",
            "\n",
            "0 => 1 => 0\n",
            "\n",
            "The path of Salesman_2 is:\n",
            "\n",
            "0 => 2 => 0\n",
            "\n",
            "The path of Salesman_3 is:\n",
            "\n",
            "0 => 6 => 5 => 13 => 12 => 3 => 11 => 4 => 9 => 8 => 10 => 0\n",
            "\n",
            "The path of Salesman_4 is:\n",
            "\n",
            "0 => 7 => 0\n",
            "\n",
            "The path of Salesman_5 is:\n",
            "\n",
            "0 => 14 => 0\n",
            "\n"
          ]
        }
      ],
      "source": [
        "################################################\n",
        "# Solving the integer programming problem\n",
        "################################################\n",
        "\n",
        "# Defining the variables\n",
        "X = cp.Variable(C.shape, boolean=True)\n",
        "u = cp.Variable(n, integer=True)\n",
        "m = 5\n",
        "ones = np.ones((n,1))\n",
        "\n",
        "# Defining the objective function\n",
        "objective = cp.Minimize(cp.sum(cp.multiply(C, X)))\n",
        "\n",
        "# Defining the constraints\n",
        "constraints = []\n",
        "constraints += [X[0,:] @ ones == m]\n",
        "constraints += [X[:,0] @ ones == m]\n",
        "constraints += [X[1:,:] @ ones == 1]\n",
        "constraints += [X[:,1:].T @ ones == 1]\n",
        "constraints += [cp.diag(X) == 0]\n",
        "constraints += [u[1:] >= 2]\n",
        "constraints += [u[1:] <= n]\n",
        "constraints += [u[0] == 1]\n",
        "\n",
        "for i in range(1, n):\n",
        "    for j in range(1, n):\n",
        "        if i != j:\n",
        "            constraints += [ u[i] - u[j] + 1  <= (n - 1) * (1 - X[i, j]) ]\n",
        "\n",
        "# Solving the problem\n",
        "prob = cp.Problem(objective, constraints)\n",
        "prob.solve(verbose=False)\n",
        "\n",
        "# Transforming the solution to paths\n",
        "X_sol = np.argwhere(X.value==1)\n",
        "\n",
        "ruta = {}\n",
        "for i in range(0, m):\n",
        "    ruta['Salesman_' + str(i+1)] = [0]\n",
        "    j = i\n",
        "    a = 10e10\n",
        "    while a != 0:\n",
        "        a = X_sol[j,1]\n",
        "        ruta['Salesman_' + str(i+1)].append(a)\n",
        "        j = np.where(X_sol[:,0] == a)\n",
        "        j = j[0][0]\n",
        "        a = j\n",
        "\n",
        "# Showing the paths\n",
        "for i in ruta.keys():\n",
        "    print('The path of ' + i + ' is:\\n')\n",
        "    print( ' => '.join(map(str, ruta[i])))\n",
        "    print('')"
      ]
    },
    {
      "cell_type": "code",
      "execution_count": 144,
      "metadata": {
        "colab": {
          "base_uri": "https://localhost:8080/",
          "height": 1000
        },
        "id": "ailDAhMzdE7z",
        "outputId": "711b4d8d-9017-4d13-b807-92c97201b3b4"
      },
      "outputs": [
        {
          "name": "stdout",
          "output_type": "stream",
          "text": [
            "[0, 1, 0]\n",
            "index 0\n",
            "[37. 52.]\n",
            "index 1\n",
            "[49. 49.]\n",
            "[0, 2, 0]\n",
            "index 0\n",
            "[37. 52.]\n",
            "index 2\n",
            "[52. 64.]\n",
            "[0, 6, 5, 13, 12, 3, 11, 4, 9, 8, 10, 0]\n",
            "index 0\n",
            "[37. 52.]\n",
            "index 6\n",
            "[17. 63.]\n",
            "index 5\n",
            "[21. 47.]\n",
            "index 13\n",
            "[12. 42.]\n",
            "index 12\n",
            "[ 5. 25.]\n",
            "index 3\n",
            "[20. 26.]\n",
            "index 11\n",
            "[31. 32.]\n",
            "index 4\n",
            "[40. 30.]\n",
            "index 9\n",
            "[51. 21.]\n",
            "index 8\n",
            "[52. 33.]\n",
            "index 10\n",
            "[42. 41.]\n",
            "[0, 7, 0]\n",
            "index 0\n",
            "[37. 52.]\n",
            "index 7\n",
            "[31. 62.]\n",
            "[0, 14, 0]\n",
            "index 0\n",
            "[37. 52.]\n",
            "index 14\n",
            "[30. 40.]\n"
          ]
        },
        {
          "data": {
            "image/png": "[encoded data removed]",
            "text/plain": [
              "<Figure size 1400x700 with 1 Axes>"
            ]
          },
          "metadata": {},
          "output_type": "display_data"
        }
      ],
      "source": [
        "################################################\n",
        "# Plotting the optimal path\n",
        "################################################\n",
        "\n",
        "# Plotting the points\n",
        "fig, ax = plt.subplots(figsize=(14,7))\n",
        "\n",
        "for i in range(n):\n",
        "    ax.annotate(str(i), xy=(xy_cords_s[i,0], xy_cords_s[i,1]+0.1))\n",
        "\n",
        "ax.scatter(xy_cords_s[:,0],xy_cords_s[:,1])\n",
        "ax.scatter(xy_cords_e[:,0],xy_cords_e[:,1])\n",
        "\n",
        "# for index, next_index in zip(orden[:-1], orden[1:]):\n",
        "#   print(\"index\", index)\n",
        "#   print(xy_cords_s[index])\n",
        "#   ax.plot([xy_cords_s[index][0], xy_cords_e[index][0]],[xy_cords_s[index][1], xy_cords_e[index][1]])\n",
        "#   ax.plot([xy_cords_e[index][0], xy_cords_s[next_index][0]],[xy_cords_e[index][1], xy_cords_s[next_index][1]])\n",
        "colors = [\"b\", \"g\", \"r\", \"c\", \"m\", \"y\", \"k\"]\n",
        "for i in ruta.keys():\n",
        "  color = colors.pop(0)\n",
        "  print(ruta[i])\n",
        "  for index, next_index in zip(ruta[i][:-1], ruta[i][1:]):\n",
        "    print(\"index\", index)\n",
        "    print(xy_cords_s[index])\n",
        "    ax.plot([xy_cords_s[index][0], xy_cords_e[index][0]],[xy_cords_s[index][1], xy_cords_e[index][1]], color=color)\n",
        "    ax.plot([xy_cords_e[index][0], xy_cords_s[next_index][0]],[xy_cords_e[index][1], xy_cords_s[next_index][1]], color=color)\n",
        "    # ax.plot(xy_cords[ruta[i],0], xy_cords[ruta[i],1], label = i)\n",
        "    # ax.legend(loc='best')"
      ]
    },
    {
      "cell_type": "code",
      "execution_count": 136,
      "metadata": {
        "colab": {
          "base_uri": "https://localhost:8080/"
        },
        "id": "pcwFy7CZdE7z",
        "outputId": "d2561a42-0a0f-4c8b-910d-f075838053fe"
      },
      "outputs": [
        {
          "name": "stdout",
          "output_type": "stream",
          "text": [
            "The optimal distance is: 218.41 km\n"
          ]
        }
      ],
      "source": [
        "# Showing the optimal distance\n",
        "distance = np.sum(np.multiply(C, X.value))\n",
        "print('The optimal distance is:', np.round(distance,2), 'km')"
      ]
    },
    {
      "cell_type": "markdown",
      "metadata": {
        "id": "NSedhqsGdE70"
      },
      "source": [
        "It can be observed that depending on the location of the points that salesmen must travel, in terms of distance it may not be optimal to add more salesmen."
      ]
    },
    {
      "cell_type": "code",
      "execution_count": null,
      "metadata": {
        "id": "-twDJrWuvmlu"
      },
      "outputs": [],
      "source": []
    }
  ],
  "metadata": {
    "colab": {
      "provenance": []
    },
    "kernelspec": {
      "display_name": "Python 3",
      "language": "python",
      "name": "python3"
    },
    "language_info": {
      "codemirror_mode": {
        "name": "ipython",
        "version": 3
      },
      "file_extension": ".py",
      "mimetype": "text/x-python",
      "name": "python",
      "nbconvert_exporter": "python",
      "pygments_lexer": "ipython3",
      "version": "3.8.10"
    }
  },
  "nbformat": 4,
  "nbformat_minor": 0
}
